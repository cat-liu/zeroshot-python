{
 "cells": [
  {
   "attachments": {},
   "cell_type": "markdown",
   "metadata": {},
   "source": [
    "# A simple demo of zeroshot\n",
    "This demo reads an image from a URL, and runs a zeroshot model on it."
   ]
  },
  {
   "cell_type": "code",
   "execution_count": null,
   "metadata": {},
   "outputs": [],
   "source": [
    "# Install dependencies.\n",
    "!pip install zeroshot\n",
    "!pip install numpy requests Pillow matplotlib"
   ]
  },
  {
   "cell_type": "code",
   "execution_count": null,
   "metadata": {},
   "outputs": [],
   "source": [
    "import io\n",
    "import requests\n",
    "import numpy as np\n",
    "from PIL import Image"
   ]
  },
  {
   "attachments": {},
   "cell_type": "markdown",
   "metadata": {},
   "source": [
    "## Image loading\n",
    "\n",
    "First, let's define a simple function to load an image from a URL."
   ]
  },
  {
   "cell_type": "code",
   "execution_count": null,
   "metadata": {},
   "outputs": [],
   "source": [
    "def load_image(url: str) -> np.ndarray:\n",
    "    # Download the image (we'll add some headers since not all websites like the default Python user agent)\n",
    "    headers = {\n",
    "        \"User-Agent\": \"Mozilla/5.0 (Windows NT 10.0;Win64) AppleWebkit/537.36 (KHTML, like Gecko) Chrome/89.0.4389.82 Safari/537.36\"\n",
    "    }\n",
    "    response = requests.get(url, headers=headers, timeout=1)\n",
    "    data = io.BytesIO(response.content)\n",
    "\n",
    "    # Load and convert to Numpy array.\n",
    "    img_pil = Image.open(data)\n",
    "    img = np.array(img_pil)\n",
    "\n",
    "    # Remove the alpha channel if there is one.\n",
    "    if img.shape[-1] == 4:\n",
    "        img = img[:, :, :3]\n",
    "\n",
    "    # BGR to RGB\n",
    "    return img\n"
   ]
  },
  {
   "attachments": {},
   "cell_type": "markdown",
   "metadata": {},
   "source": [
    "# Setup\n",
    "We'll use an existing model trained to distinguish dog, cat, human, and other random zoo animals."
   ]
  },
  {
   "cell_type": "code",
   "execution_count": null,
   "metadata": {},
   "outputs": [],
   "source": [
    "dog_url = \"https://raw.githubusercontent.com/srirammanikumar/DogBreedClassifier/master/images/Labrador_retriever_06457.jpg\"\n",
    "model_id = \"0bf0e780-3d4c-446b-93a0-3bbea8c2b273\"\n",
    "\n",
    "image = load_image(dog_url)"
   ]
  },
  {
   "cell_type": "code",
   "execution_count": null,
   "metadata": {},
   "outputs": [],
   "source": [
    "import matplotlib.pyplot as plt\n",
    "\n",
    "plt.figure(figsize=(5, 5))\n",
    "plt.imshow(image)\n",
    "plt.axis('off')\n",
    "plt.show()"
   ]
  },
  {
   "attachments": {},
   "cell_type": "markdown",
   "metadata": {},
   "source": [
    "## Run the model\n",
    "Next, just run the model! You'll need to go build a model at usezeroshot.com, and you can either download the file or just point at the GUID we provide. Here we'll just use an existing model that classifies a few existing objects."
   ]
  },
  {
   "cell_type": "code",
   "execution_count": null,
   "metadata": {},
   "outputs": [],
   "source": [
    "import zeroshot\n",
    "\n",
    "# Create the classifier and preprocessing function.\n",
    "classifier = zeroshot.Classifier(model_id)\n",
    "preprocess_fn = zeroshot.create_preprocess_fn()\n",
    "\n",
    "# Run the model!\n",
    "prediction = classifier.predict(preprocess_fn(image))\n",
    "print(f\"The image is class \\\"{prediction}\\\"\")"
   ]
  },
  {
   "attachments": {},
   "cell_type": "markdown",
   "metadata": {},
   "source": [
    "## Advanced: Show probabilities of the model\n",
    "At the most basic, the model will return the most likely class. However, we can ask for probabilities to instead see how confident the model is on the various classes."
   ]
  },
  {
   "cell_type": "code",
   "execution_count": null,
   "metadata": {},
   "outputs": [],
   "source": [
    "# Get predictions.\n",
    "prediction = classifier.predict_proba(preprocess_fn(image))\n",
    "classes = classifier.class_list\n",
    "\n",
    "print(\"Probabilities:\")\n",
    "for pred, cls in zip(prediction, classes):\n",
    "  print(f\"\\t{cls}: {pred:.2%}\")"
   ]
  }
 ],
 "metadata": {
  "language_info": {
   "name": "python"
  },
  "orig_nbformat": 4
 },
 "nbformat": 4,
 "nbformat_minor": 2
}
